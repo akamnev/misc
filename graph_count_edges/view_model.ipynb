{
 "cells": [
  {
   "cell_type": "markdown",
   "metadata": {},
   "source": [
    "# Анализ весов модели"
   ]
  },
  {
   "cell_type": "code",
   "execution_count": 1,
   "metadata": {},
   "outputs": [],
   "source": [
    "import sys\n",
    "import pickle\n",
    "import torch\n",
    "import numpy as np\n",
    "\n",
    "import matplotlib\n",
    "%matplotlib inline\n",
    "import matplotlib.pyplot as plt"
   ]
  },
  {
   "cell_type": "code",
   "execution_count": 2,
   "metadata": {},
   "outputs": [],
   "source": [
    "if '.' not in sys.path:\n",
    "    sys.path.append('.')\n",
    "from src import GCN, create_batch"
   ]
  },
  {
   "cell_type": "code",
   "execution_count": 3,
   "metadata": {},
   "outputs": [],
   "source": [
    "with open('./data/history.pkl', 'rb') as fp:\n",
    "    history = pickle.load(fp)"
   ]
  },
  {
   "cell_type": "code",
   "execution_count": 4,
   "metadata": {},
   "outputs": [
    {
     "data": {
      "text/plain": [
       "[<matplotlib.lines.Line2D at 0x7fa181521550>]"
      ]
     },
     "execution_count": 4,
     "metadata": {},
     "output_type": "execute_result"
    },
    {
     "data": {
      "image/png": "[encoded data removed]",
      "text/plain": [
       "<Figure size 432x288 with 1 Axes>"
      ]
     },
     "metadata": {
      "needs_background": "light"
     },
     "output_type": "display_data"
    }
   ],
   "source": [
    "# plt.plot(history)\n",
    "plt.plot(history[-800:])"
   ]
  },
  {
   "cell_type": "code",
   "execution_count": 5,
   "metadata": {},
   "outputs": [],
   "source": [
    "mdl = GCN()\n",
    "mdl.init_2()"
   ]
  },
  {
   "cell_type": "code",
   "execution_count": 6,
   "metadata": {},
   "outputs": [],
   "source": [
    "n = 50\n",
    "m0, m1 = 50, 100\n",
    "batch_size = 8\n",
    "nodes, adj = create_batch(n, m0, m1, batch_size)\n",
    "num_edges = torch.sum(torch.sum(adj, dim=-1), dim=-1) / 2\n",
    "c = mdl(nodes, adj)"
   ]
  },
  {
   "cell_type": "code",
   "execution_count": 7,
   "metadata": {},
   "outputs": [
    {
     "data": {
      "text/plain": [
       "(tensor([87., 84., 81., 70., 86., 94., 93., 64.]),\n",
       " tensor([87., 84., 81., 70., 86., 94., 93., 64.], grad_fn=<SumBackward1>))"
      ]
     },
     "execution_count": 7,
     "metadata": {},
     "output_type": "execute_result"
    }
   ],
   "source": [
    "num_edges, c"
   ]
  },
  {
   "cell_type": "code",
   "execution_count": 8,
   "metadata": {},
   "outputs": [
    {
     "data": {
      "text/plain": [
       "<All keys matched successfully>"
      ]
     },
     "execution_count": 8,
     "metadata": {},
     "output_type": "execute_result"
    }
   ],
   "source": [
    "mdl.load_state_dict(torch.load('./data/mdl.bin'))"
   ]
  },
  {
   "cell_type": "code",
   "execution_count": 9,
   "metadata": {},
   "outputs": [
    {
     "data": {
      "text/plain": [
       "tensor([87.0000, 84.0000, 81.0000, 70.0000, 86.0000, 94.0000, 93.0000, 64.0000],\n",
       "       grad_fn=<SumBackward1>)"
      ]
     },
     "execution_count": 9,
     "metadata": {},
     "output_type": "execute_result"
    }
   ],
   "source": [
    "c = mdl(nodes, adj)\n",
    "c"
   ]
  },
  {
   "cell_type": "code",
   "execution_count": 11,
   "metadata": {},
   "outputs": [
    {
     "data": {
      "text/plain": [
       "OrderedDict([('embedding.weight',\n",
       "              tensor([[ 0.0000,  0.0000,  0.0000,  0.0000,  0.0000,  0.0000,  0.0000,  0.0000],\n",
       "                      [-0.9295, -0.1321,  0.6850,  2.0673, -0.7884, -0.8846, -0.1793, -0.7877]])),\n",
       "             ('w.weight',\n",
       "              tensor([[ 0.3914,  0.3837,  0.0358, -0.3418,  0.4395,  0.0263,  0.4480,  0.1862],\n",
       "                      [-0.4102, -0.1328, -0.2495,  0.0835,  0.0401,  0.0517, -0.1358,  0.1414],\n",
       "                      [ 0.4788,  0.1111, -0.4162, -0.4512,  0.1444, -0.1673, -0.0381,  0.2731],\n",
       "                      [-0.2301,  0.0512,  0.0690, -0.1802,  0.3186, -0.1228, -0.1227,  0.2784],\n",
       "                      [-0.1130, -0.2723, -0.0076,  0.1081, -0.3155, -0.3714,  0.0225,  0.1372],\n",
       "                      [ 0.0074, -0.1443, -0.4314,  0.0738,  0.3211,  0.3693, -0.1220,  0.4594],\n",
       "                      [ 0.2163,  0.1711, -0.0831,  0.1756, -0.1443, -0.0191, -0.1121,  0.0108],\n",
       "                      [ 0.0237, -0.1948,  0.1882, -0.1367, -0.3102, -0.2102, -0.1835, -0.3768]])),\n",
       "             ('count.weight',\n",
       "              tensor([[-0.0055,  0.2347, -0.1149,  0.1113,  0.2940,  0.0281,  0.0828,  0.1305]])),\n",
       "             ('count.bias', tensor([0.2488]))])"
      ]
     },
     "execution_count": 11,
     "metadata": {},
     "output_type": "execute_result"
    }
   ],
   "source": [
    "st = mdl.state_dict()\n",
    "st"
   ]
  },
  {
   "cell_type": "code",
   "execution_count": 20,
   "metadata": {},
   "outputs": [
    {
     "data": {
      "text/plain": [
       "tensor([0.2488])"
      ]
     },
     "execution_count": 20,
     "metadata": {},
     "output_type": "execute_result"
    }
   ],
   "source": [
    "h = st['embedding.weight'][1].view(-1, 1)\n",
    "w = st['w.weight']\n",
    "theta = st['count.weight']\n",
    "b = st['count.bias']\n",
    "b"
   ]
  },
  {
   "cell_type": "code",
   "execution_count": 33,
   "metadata": {},
   "outputs": [
    {
     "name": "stdout",
     "output_type": "stream",
     "text": [
      "tensor([[0.5000]])\n",
      "tensor([[2.3842e-07]])\n"
     ]
    }
   ],
   "source": [
    "wh = w @ h\n",
    "awh = torch.sigmoid(wh)\n",
    "\n",
    "print(theta @ awh)\n",
    "print(theta @ h + b)"
   ]
  },
  {
   "cell_type": "code",
   "execution_count": 32,
   "metadata": {},
   "outputs": [
    {
     "data": {
      "text/plain": [
       "tensor([[2.3842e-07]])"
      ]
     },
     "execution_count": 32,
     "metadata": {},
     "output_type": "execute_result"
    }
   ],
   "source": []
  },
  {
   "cell_type": "code",
   "execution_count": null,
   "metadata": {},
   "outputs": [],
   "source": []
  }
 ],
 "metadata": {
  "kernelspec": {
   "display_name": "Python 3",
   "language": "python",
   "name": "python3"
  },
  "language_info": {
   "codemirror_mode": {
    "name": "ipython",
    "version": 3
   },
   "file_extension": ".py",
   "mimetype": "text/x-python",
   "name": "python",
   "nbconvert_exporter": "python",
   "pygments_lexer": "ipython3",
   "version": "3.8.5"
  }
 },
 "nbformat": 4,
 "nbformat_minor": 4
}
